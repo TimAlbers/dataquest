{
 "cells": [
  {
   "cell_type": "markdown",
   "metadata": {},
   "source": [
    "#Fan Survey Star Wars\n",
    "This notebook is based on the the dataquest challenge for data manipluation: https://www.dataquest.io/mission/115/project-star-wars-survey/. Code has largely been copy/ pasted to test out functionalities of IPython notebook.\n",
    "The dataset challenge uses a dataset from FiveThirtyEight.\n",
    "Related article: http://fivethirtyeight.com/features/avengers-death-comics-age-of-ultron/\n",
    "Utilized dataset: https://github.com/fivethirtyeight/data/tree/master/star-wars-survey"
   ]
  },
  {
   "cell_type": "markdown",
   "metadata": {},
   "source": [
    "2: Introduction\n",
    "After watching some footage of the upcoming Star Wars movie, the team at FiveThirtyEight were interested in answering some long-awaited questions on the released Star Wars movies. One especially entertaining question, straight from their site, they had was: \"Does the rest of America realize that “The Empire Strikes Back” is clearly the best of the bunch?\"\n",
    "\n",
    "FiveThirtyEight used SurveyMonkey to run a survey to collect responses to their questions and received 835 responses total.\n",
    "\n",
    "3: Phase 1 - Data Cleaning\n",
    "As with many datasets, the first thing you'll need to do is clean \n",
    "and format the dataset so it's optimized for exploration and analysis in Pandas. Download the raw data set from FiveThirtyEight's Github repo and explore the current format. You'll notice that many columns are missing a title and others have long titles, corresponding to questions asked in the survey. Since column titles are used a lot when working with data in Pandas, you will need to clean up these titles so they're easier to use. In addition, some of the answers to the questions are spread out over multiple columns and coalescing that data into one column would make it much easier to work with. "
   ]
  },
  {
   "cell_type": "code",
   "execution_count": 4,
   "metadata": {
    "collapsed": true
   },
   "outputs": [],
   "source": [
    "import pandas as pd\n",
    "import matplotlib as plt\n",
    "import seaborn as sns\n",
    "%matplotlib inline \n",
    "import sys"
   ]
  },
  {
   "cell_type": "code",
   "execution_count": 11,
   "metadata": {
    "collapsed": false
   },
   "outputs": [],
   "source": [
    "star_wars = pd.read_csv(\"StarWars.csv\", encoding=\"ISO-8859-1\")"
   ]
  },
  {
   "cell_type": "code",
   "execution_count": 12,
   "metadata": {
    "collapsed": false
   },
   "outputs": [
    {
     "data": {
      "text/html": [
       "<div>\n",
       "<table border=\"1\" class=\"dataframe\">\n",
       "  <thead>\n",
       "    <tr style=\"text-align: right;\">\n",
       "      <th></th>\n",
       "      <th>RespondentID</th>\n",
       "      <th>Have you seen any of the 6 films in the Star Wars franchise?</th>\n",
       "      <th>Do you consider yourself to be a fan of the Star Wars film franchise?</th>\n",
       "      <th>Which of the following Star Wars films have you seen? Please select all that apply.</th>\n",
       "      <th>Unnamed: 4</th>\n",
       "      <th>Unnamed: 5</th>\n",
       "      <th>Unnamed: 6</th>\n",
       "      <th>Unnamed: 7</th>\n",
       "      <th>Unnamed: 8</th>\n",
       "      <th>Please rank the Star Wars films in order of preference with 1 being your favorite film in the franchise and 6 being your least favorite film.</th>\n",
       "      <th>...</th>\n",
       "      <th>Unnamed: 28</th>\n",
       "      <th>Which character shot first?</th>\n",
       "      <th>Are you familiar with the Expanded Universe?</th>\n",
       "      <th>Do you consider yourself to be a fan of the Expanded Universe?æ</th>\n",
       "      <th>Do you consider yourself to be a fan of the Star Trek franchise?</th>\n",
       "      <th>Gender</th>\n",
       "      <th>Age</th>\n",
       "      <th>Household Income</th>\n",
       "      <th>Education</th>\n",
       "      <th>Location (Census Region)</th>\n",
       "    </tr>\n",
       "  </thead>\n",
       "  <tbody>\n",
       "    <tr>\n",
       "      <th>0</th>\n",
       "      <td>NaN</td>\n",
       "      <td>Response</td>\n",
       "      <td>Response</td>\n",
       "      <td>Star Wars: Episode I  The Phantom Menace</td>\n",
       "      <td>Star Wars: Episode II  Attack of the Clones</td>\n",
       "      <td>Star Wars: Episode III  Revenge of the Sith</td>\n",
       "      <td>Star Wars: Episode IV  A New Hope</td>\n",
       "      <td>Star Wars: Episode V The Empire Strikes Back</td>\n",
       "      <td>Star Wars: Episode VI Return of the Jedi</td>\n",
       "      <td>Star Wars: Episode I  The Phantom Menace</td>\n",
       "      <td>...</td>\n",
       "      <td>Yoda</td>\n",
       "      <td>Response</td>\n",
       "      <td>Response</td>\n",
       "      <td>Response</td>\n",
       "      <td>Response</td>\n",
       "      <td>Response</td>\n",
       "      <td>Response</td>\n",
       "      <td>Response</td>\n",
       "      <td>Response</td>\n",
       "      <td>Response</td>\n",
       "    </tr>\n",
       "    <tr>\n",
       "      <th>1</th>\n",
       "      <td>3292879998</td>\n",
       "      <td>Yes</td>\n",
       "      <td>Yes</td>\n",
       "      <td>Star Wars: Episode I  The Phantom Menace</td>\n",
       "      <td>Star Wars: Episode II  Attack of the Clones</td>\n",
       "      <td>Star Wars: Episode III  Revenge of the Sith</td>\n",
       "      <td>Star Wars: Episode IV  A New Hope</td>\n",
       "      <td>Star Wars: Episode V The Empire Strikes Back</td>\n",
       "      <td>Star Wars: Episode VI Return of the Jedi</td>\n",
       "      <td>3</td>\n",
       "      <td>...</td>\n",
       "      <td>Very favorably</td>\n",
       "      <td>I don't understand this question</td>\n",
       "      <td>Yes</td>\n",
       "      <td>No</td>\n",
       "      <td>No</td>\n",
       "      <td>Male</td>\n",
       "      <td>18-29</td>\n",
       "      <td>NaN</td>\n",
       "      <td>High school degree</td>\n",
       "      <td>South Atlantic</td>\n",
       "    </tr>\n",
       "  </tbody>\n",
       "</table>\n",
       "<p>2 rows × 38 columns</p>\n",
       "</div>"
      ],
      "text/plain": [
       "   RespondentID Have you seen any of the 6 films in the Star Wars franchise?  \\\n",
       "0           NaN                                           Response             \n",
       "1    3292879998                                                Yes             \n",
       "\n",
       "  Do you consider yourself to be a fan of the Star Wars film franchise?  \\\n",
       "0                                           Response                      \n",
       "1                                                Yes                      \n",
       "\n",
       "  Which of the following Star Wars films have you seen? Please select all that apply.  \\\n",
       "0           Star Wars: Episode I  The Phantom Menace                                    \n",
       "1           Star Wars: Episode I  The Phantom Menace                                    \n",
       "\n",
       "                                    Unnamed: 4  \\\n",
       "0  Star Wars: Episode II  Attack of the Clones   \n",
       "1  Star Wars: Episode II  Attack of the Clones   \n",
       "\n",
       "                                    Unnamed: 5  \\\n",
       "0  Star Wars: Episode III  Revenge of the Sith   \n",
       "1  Star Wars: Episode III  Revenge of the Sith   \n",
       "\n",
       "                          Unnamed: 6  \\\n",
       "0  Star Wars: Episode IV  A New Hope   \n",
       "1  Star Wars: Episode IV  A New Hope   \n",
       "\n",
       "                                     Unnamed: 7  \\\n",
       "0  Star Wars: Episode V The Empire Strikes Back   \n",
       "1  Star Wars: Episode V The Empire Strikes Back   \n",
       "\n",
       "                                 Unnamed: 8  \\\n",
       "0  Star Wars: Episode VI Return of the Jedi   \n",
       "1  Star Wars: Episode VI Return of the Jedi   \n",
       "\n",
       "  Please rank the Star Wars films in order of preference with 1 being your favorite film in the franchise and 6 being your least favorite film.  \\\n",
       "0           Star Wars: Episode I  The Phantom Menace                                                                                              \n",
       "1                                                  3                                                                                              \n",
       "\n",
       "            ...                Unnamed: 28       Which character shot first?  \\\n",
       "0           ...                       Yoda                          Response   \n",
       "1           ...             Very favorably  I don't understand this question   \n",
       "\n",
       "  Are you familiar with the Expanded Universe?  \\\n",
       "0                                     Response   \n",
       "1                                          Yes   \n",
       "\n",
       "  Do you consider yourself to be a fan of the Expanded Universe?æ  \\\n",
       "0                                           Response                 \n",
       "1                                                 No                 \n",
       "\n",
       "  Do you consider yourself to be a fan of the Star Trek franchise?    Gender  \\\n",
       "0                                           Response                Response   \n",
       "1                                                 No                    Male   \n",
       "\n",
       "        Age Household Income           Education Location (Census Region)  \n",
       "0  Response         Response            Response                 Response  \n",
       "1     18-29              NaN  High school degree           South Atlantic  \n",
       "\n",
       "[2 rows x 38 columns]"
      ]
     },
     "execution_count": 12,
     "metadata": {},
     "output_type": "execute_result"
    }
   ],
   "source": [
    "star_wars.head(2)"
   ]
  },
  {
   "cell_type": "markdown",
   "metadata": {},
   "source": [
    "4: Phase 2 - Data Exploration\n",
    "Once your data is in the right shape, you can start diving in and running some initial explorations. Here are some initial questions you will want to explore but you will need to come up with more on your own as these are very cursory:\n",
    "\n",
    "What different cohorts of users can you create from the survey? For example, the people who answered Yes for the question, \"Do you consider yourself to be a fan of the Star Wars film franchise?\", are probably quite different from those who answered No.\n",
    "What data is missing that you will need to come up with rules for handling? Do you need to throw out different data points for different cohorts?\n",
    "What data visualizations can you create to explore the data further? The data is more qualitative than quantitative so what are the best ways for showing patterns in that type of data?\n",
    "\n",
    "5: Phase 3 - Data Analysis\n",
    "Data analysis, at its core, is rooted in asking questions and using the data to glean the answers to those questions. Often times, knowing what questions to ask is harder than discovering the answer so this phase is incredibly important. In addition, since you're using data from a survey, it's very important to dive deeply into how the survey was conducted, if there were any potential flaws that could bias the data, etc. Whenever you are analyzing data, it's incredibly important to state your assumptions and also bring up any biases you think may exist beforehand.\n",
    "\n",
    "While, the questions you will want to explore are very dependent on the results of phase 2, we will provide a few to get your creative juices flowing!\n",
    "\n",
    "How do demographic indicators like gender, age, location, and household income affect the responses?\n",
    "Is there a clear difference between fans who like the original trilogy over the modern trilogy (or vice versa)?\n",
    "\n",
    "6: Phase 4 - Data Presentation\n",
    "A huge aspect of data science is communicating the results of your analysis to others. In many companies, data scientists work alongside Marketing and Product Management teams and have to present results to team members who aren't well versed with data science. Communicating your results could be involve a Powerpoint presentation, a one-page research report, or a data dive so team members can ask you follow up questions that you can quickly answer. For personal projects, we highly recommend publishing the iPython Notebook file (.ipynb) to your Github and building a portfolio website to demonstrate your work.\n",
    "\n",
    "Here are some examples of portfolios from data scientists in the field that showcase their projects:\n",
    "\n",
    "Chris Albon (Co-host, Partially Derivative and Cofounder of Popily.me) - http://chrisalbon.com/\n",
    "Greg Reda (Former Lead Data Scientist at GrubHub) - http://www.gregreda.com/\n",
    "Max Woolf (Engineer at Apple) - http://minimaxir.com/\n",
    "\n",
    "7: Conclusion\n",
    "We hope you enjoyed this project and we hope you learned a lot along the way. If you're proud of the work you've done, we would love to feature the work on our blog and spotlight exemplary projects in our newsletter. You can reach us at hello@dataquest.io if you want us to submit your project or if you have any feedback!"
   ]
  },
  {
   "cell_type": "code",
   "execution_count": null,
   "metadata": {
    "collapsed": true
   },
   "outputs": [],
   "source": []
  }
 ],
 "metadata": {
  "kernelspec": {
   "display_name": "Python 3",
   "language": "python",
   "name": "python3"
  },
  "language_info": {
   "codemirror_mode": {
    "name": "ipython",
    "version": 3
   },
   "file_extension": ".py",
   "mimetype": "text/x-python",
   "name": "python",
   "nbconvert_exporter": "python",
   "pygments_lexer": "ipython3",
   "version": "3.4.3"
  }
 },
 "nbformat": 4,
 "nbformat_minor": 0
}
