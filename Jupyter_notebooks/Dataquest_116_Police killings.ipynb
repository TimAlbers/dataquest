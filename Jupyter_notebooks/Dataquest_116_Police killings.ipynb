{
 "cells": [
  {
   "cell_type": "markdown",
   "metadata": {},
   "source": [
    "#Data manipulation project: Police killings\n",
    "This notebook is based on the the dataquest challenge for data manipulation: https://www.dataquest.io/mission/116/project-police-killings/. Code has largely been copy/ pasted to test out functionalities of IPython notebook.\n",
    "The dataset challenge uses a dataset from FiveThirtyEight.\n",
    "Related article: http://fivethirtyeight.com/features/where-police-have-killed-americans-in-2015/\n",
    "Utilized dataset: https://github.com/fivethirtyeight/data/tree/master/police-killings\n"
   ]
  },
  {
   "cell_type": "markdown",
   "metadata": {},
   "source": [
    "Phase 1 - Data Cleaning\n",
    "The team at FiveThirtyEight has assembled a dataset using crowdsourced data compiled by the Guardian and census data from the government, which can be found on their Github repo. Read more about their methodology and the analysis on their website.\n",
    "\n",
    "Thankfully, in this case, the data has been formatted incredibly well for us already. As you determine the kinds of questions you want to explore, you may find that this dataset alone isn't enough and you'll need to augment the data with other demographic, financial, or other data. Google is your friend when searching for new datasets, but here are a few places you can explore as starting points:\n",
    "\n",
    "Data.gov - http://www.data.gov/\n",
    "Socrata - https://opendata.socrata.com/\n",
    "Github - https://github.com/caesar0301/awesome-public-datasets\n",
    "We will provide you with one tip however! The CSV file from FiveThirtyEight's Github repo contains poorly formatted characters and the Python interpreter will actually throw an error if you try to use read_csv to read into a DataFrame object. You will have to add a flag that will allow Pandas to import the dataset safely, as we'll show you below. To read more about the different character encodings, read this phenomenal post by programmer Joel Spolsky: http://www.joelonsoftware.com/articles/Unicode.html"
   ]
  },
  {
   "cell_type": "markdown",
   "metadata": {},
   "source": [
    "Phase 2 - Data Exploration\n",
    "Exploring data is a key part of discovering more focused questions to ask and explore. Since this dataset came with a large number of columns, there are hundreds of hypotheses you could come up with. We've listed a few ideas to think about to help you get started:\n",
    "\n",
    "California, Texas, and Florida have the most killings but have a much higher population. What are some ways you can calibrate for the difference in population?\n",
    "Do you have enough data on income levels of the regions where the killings happened to explore links between income and crime? What new data sources should you add to explore this in more detail?\n",
    "This dataset doesn't have much data related to crime in the regions. What data can you add to help fix that? Since this dataset is not a complete list of police killings, how do you factor that into your analysis?"
   ]
  },
  {
   "cell_type": "markdown",
   "metadata": {},
   "source": [
    "Phase 3 - Data Analysis\n",
    "Now that you've explored the data, you should have a much better idea for more specific questions you want to explore. While, the questions you will want to explore are very dependent on the results of phase 2, we will provide a few to get your creative juices flowing!\n",
    "\n",
    "What general racial leanings do the killings have? At first glance, there were more killings of white civilians than both black and hispanic combined. How complete of a picture does this provide?\n",
    "While it's well known that lower income areas tend to have more crime, does the data refute or support that general claim? Did you find any links between features you didn't feel were that related?"
   ]
  },
  {
   "cell_type": "markdown",
   "metadata": {},
   "source": [
    "Phase 4 - Data Presentation\n",
    "A huge aspect of data science is communicating the results of your analysis to others. In many companies, data scientists work alongside Marketing and Product Management teams and have to present results to team members who aren't well versed with data science. Communicating your results could be involve a Powerpoint presentation, a one-page research report, or a data dive so team members can ask you follow up questions that you can quickly answer. For personal projects, we highly recommend publishing the iPython Notebook file (.ipynb) to your Github and building a portfolio website to demonstrate your work.\n",
    "\n",
    "Here are some examples of portfolios from data scientists in the field that showcase their projects:\n",
    "\n",
    "Chris Albon (Co-host, Partially Derivative and Cofounder of Popily.me) - http://chrisalbon.com/\n",
    "Greg Reda (Former Lead Data Scientist at GrubHub) - http://www.gregreda.com/\n",
    "Max Woolf (Engineer at Apple) - http://minimaxir.com/"
   ]
  },
  {
   "cell_type": "markdown",
   "metadata": {},
   "source": []
  }
 ],
 "metadata": {
  "kernelspec": {
   "display_name": "Python 3",
   "language": "python",
   "name": "python3"
  },
  "language_info": {
   "codemirror_mode": {
    "name": "ipython",
    "version": 3
   },
   "file_extension": ".py",
   "mimetype": "text/x-python",
   "name": "python",
   "nbconvert_exporter": "python",
   "pygments_lexer": "ipython3",
   "version": "3.4.3"
  }
 },
 "nbformat": 4,
 "nbformat_minor": 0
}
